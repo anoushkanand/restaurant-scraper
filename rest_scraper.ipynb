{
 "cells": [
  {
   "cell_type": "code",
   "execution_count": 46,
   "id": "a88651b3-9371-4605-940b-a5f34930868a",
   "metadata": {},
   "outputs": [],
   "source": [
    "import requests\n",
    "from bs4 import BeautifulSoup\n",
    "import csv"
   ]
  },
  {
   "cell_type": "code",
   "execution_count": 47,
   "id": "bd31b5e1-9094-4f0c-babe-5f1f6ddf947b",
   "metadata": {},
   "outputs": [],
   "source": [
    "url = \"https://www.swiggy.com/city/indore\"\n",
    "HEADERS = {'User-Agent': 'Mozilla/5.0 (iPad; CPU OS 12_2 like Mac OS X) AppleWebKit/605.1.15 (KHTML, like Gecko) Mobile/15E148'}"
   ]
  },
  {
   "cell_type": "code",
   "execution_count": 48,
   "id": "d1206e7d-d2be-413a-ac2f-2a6a711578ae",
   "metadata": {},
   "outputs": [
    {
     "name": "stdout",
     "output_type": "stream",
     "text": [
      "Success!\n"
     ]
    }
   ],
   "source": [
    "response = requests.get(url, headers = HEADERS)\n",
    "# Check if the request was successful\n",
    "if response.status_code == 200: \n",
    "    print(\"Success!\")\n",
    "else:\n",
    "    print(\"Error\")"
   ]
  },
  {
   "cell_type": "code",
   "execution_count": 53,
   "id": "7a5c3607-9c2f-494b-bc22-a23ada7169f4",
   "metadata": {},
   "outputs": [
    {
     "data": {
      "text/plain": [
       "41"
      ]
     },
     "execution_count": 53,
     "metadata": {},
     "output_type": "execute_result"
    }
   ],
   "source": [
    "csv_file = open('Indore1.csv', 'w')\n",
    "writer = csv.writer(csv_file)\n",
    "writer.writerow(['Restaurant Name', 'Rating', 'Cuisine', 'Location'])"
   ]
  },
  {
   "cell_type": "code",
   "execution_count": 50,
   "id": "2f851dd6-f4cb-495b-ac30-ebd8fddcb28b",
   "metadata": {},
   "outputs": [],
   "source": [
    "# Parse the HTML content of the page\n",
    "soup = BeautifulSoup(response.text, 'html.parser')\n",
    "#print(soup.prettify())"
   ]
  },
  {
   "cell_type": "code",
   "execution_count": 51,
   "id": "860c5eb0-d341-4767-9fe0-aa47792e6edd",
   "metadata": {},
   "outputs": [],
   "source": [
    "restaurant_element = soup.find_all('div', class_='styled__StyledRestaurantGridCard-sc-fcg6mi-0 lgOeYp')\n",
    "#print(restaurant_element)"
   ]
  },
  {
   "cell_type": "code",
   "execution_count": 52,
   "id": "f25f0f46-50fa-4c87-9f45-301c698b222b",
   "metadata": {},
   "outputs": [
    {
     "name": "stdout",
     "output_type": "stream",
     "text": [
      "Restaurant Name: Atul Sandwich And Cafe\n",
      "Rating: 4.1 •\n",
      "Cuisine: Fast Food, North Indian, Indian, Chinese, Snacks\n",
      "Location: Navneet Plaza\n",
      "Restaurant Name: UK Restaurants & Kitchens\n",
      "Rating: 3.9 •\n",
      "Cuisine: North Indian, Thalis, Chinese, Desserts, Indian, Fast Food, Punjabi\n",
      "Location: Vijay Nagar\n",
      "Restaurant Name: Oye24\n",
      "Rating: 4 •\n",
      "Cuisine: North Indian, Pizzas, South Indian, Desserts, Chinese, Thalis, Indian\n",
      "Location: Pardesipura\n",
      "Restaurant Name: Rollsking\n",
      "Rating: 4.1 •\n",
      "Cuisine: North Indian, Fast Food, Beverages\n",
      "Location: Vijay Nagar\n",
      "Restaurant Name: Taco Bell\n",
      "Rating: 3.6 •\n",
      "Cuisine: Mexican\n",
      "Location: Indore\n",
      "Restaurant Name: Paratha Junction\n",
      "Rating: 2.5 •\n",
      "Cuisine: North Indian\n",
      "Location: Old Palasia\n",
      "Restaurant Name: Ice Balls and Slice Square\n",
      "Rating: 3.6 •\n",
      "Cuisine: Pizzas, Fast Food, Pastas, Italian, Beverages, Indian, Ice Cream, Desserts, Snacks\n",
      "Location: Vijay Nagar\n",
      "Restaurant Name: Dal Khichdi\n",
      "Rating: 3.9 •\n",
      "Cuisine: Indian\n",
      "Location: Old Palasia\n",
      "Restaurant Name: 99 Roti.Com\n",
      "Rating: 3.1 •\n",
      "Cuisine: North Indian, Chinese, Pizzas, Fast Food, Snacks\n",
      "Location: Scheme No:94\n",
      "Restaurant Name: La mino'z Pizza\n",
      "Rating: 2.8 •\n",
      "Cuisine: Pizzas, Fast Food\n",
      "Location: New Palasia\n"
     ]
    }
   ],
   "source": [
    "for restaurant in restaurant_element:\n",
    "        # Extract information from each <a> element and its child <div> elements\n",
    "        restaurant_name = restaurant.find('div', class_='sc-beySbM cwvucc').text.strip()\n",
    "        rating = restaurant.find('span', class_='sc-beySbM evFhcR').text.strip()\n",
    "        data = restaurant.find_all('div', class_='sc-beySbM iTWFZi')\n",
    "       \n",
    "\n",
    "        print(f'Restaurant Name: {restaurant_name}')\n",
    "        print(f'Rating: {rating}')\n",
    "        print(f'Cuisine: {data[0].text.strip()}')\n",
    "        print(f'Location: {data[1].text.strip()}')\n",
    "        \n",
    "        # write the data to csv file\n",
    "        writer.writerow([restaurant_name, rating, data[0].text.strip(), data[1].text.strip()])"
   ]
  },
  {
   "cell_type": "code",
   "execution_count": null,
   "id": "25d258c7-bc2c-4670-97fb-3980c383fa38",
   "metadata": {},
   "outputs": [],
   "source": []
  }
 ],
 "metadata": {
  "kernelspec": {
   "display_name": "Python 3 (ipykernel)",
   "language": "python",
   "name": "python3"
  },
  "language_info": {
   "codemirror_mode": {
    "name": "ipython",
    "version": 3
   },
   "file_extension": ".py",
   "mimetype": "text/x-python",
   "name": "python",
   "nbconvert_exporter": "python",
   "pygments_lexer": "ipython3",
   "version": "3.11.4"
  }
 },
 "nbformat": 4,
 "nbformat_minor": 5
}
